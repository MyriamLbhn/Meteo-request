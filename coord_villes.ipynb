{
 "cells": [
  {
   "cell_type": "code",
   "execution_count": 2,
   "metadata": {},
   "outputs": [],
   "source": [
    "import os\n",
    "from os.path import join, dirname\n",
    "from dotenv import load_dotenv\n",
    "\n",
    "dotenv_path = join(dirname(\"DECOUVERTE_REQUESTS\"), '.env')\n",
    "load_dotenv(dotenv_path)\n",
    "\n",
    "API_KEY = os.environ.get(\"API_KEY\")\n"
   ]
  },
  {
   "attachments": {},
   "cell_type": "markdown",
   "metadata": {},
   "source": [
    "### Ajout des latitudes et longitudes des villes avec une API de géocoding "
   ]
  },
  {
   "cell_type": "code",
   "execution_count": 3,
   "metadata": {},
   "outputs": [],
   "source": [
    "import requests\n",
    "import pandas as pd\n",
    "\n",
    "# Liste des villes à géocoder\n",
    "villes = [\"Paris\", \"Marseille\", \"Lyon\", \"Toulouse\", \"Nice\", \"Nantes\", \"Strasbourg\", \"Montpellier\", \"Bordeaux\", \"Lille\",\n",
    "          \"Rennes\", \"Reims\", \"Le Havre\", \"Saint-Étienne\", \"Toulon\", \"Grenoble\", \"Dijon\", \"Angers\", \"Nîmes\", \"Villeurbanne\"]\n",
    "\n",
    "# Clé d'API Geocoding de OpenWeatherMap\n",
    "api_key = API_KEY\n",
    "\n",
    "# Création d'un DataFrame vide pour stocker les coordonnées géographiques\n",
    "coords_df = pd.DataFrame(columns=[\"ville\", \"latitude\", \"longitude\"])\n",
    "\n",
    "# Boucle sur les villes pour récupérer les coordonnées géographiques\n",
    "for ville in villes:\n",
    "    # Requête vers l'API Geocoding de OpenWeatherMap\n",
    "    url = f\"http://api.openweathermap.org/geo/1.0/direct?q={ville}&limit=1&appid={api_key}\"\n",
    "    response = requests.get(url)\n",
    "    data = response.json()\n",
    "\n",
    "    # Récupération des coordonnées géographiques\n",
    "    if data:\n",
    "        lat = data[0][\"lat\"]\n",
    "        lng = data[0][\"lon\"]\n",
    "        coords_df = pd.concat([coords_df, pd.DataFrame([[ville, lat, lng]], columns=[\"ville\", \"latitude\", \"longitude\"])])\n",
    "    else:\n",
    "        print(f\"Erreur lors de la récupération des coordonnées de {ville}\")\n",
    "\n",
    "# Jointure des coordonnées géographiques avec les données météorologiques\n",
    "df = pd.read_csv(\"meteo_top_20_villes_fr.csv\")\n",
    "df = pd.merge(df, coords_df, on=\"ville\")\n"
   ]
  },
  {
   "cell_type": "code",
   "execution_count": 5,
   "metadata": {},
   "outputs": [],
   "source": [
    "df.to_csv(\"meteo_top_20_villes_fr.csv\", index=False)"
   ]
  }
 ],
 "metadata": {
  "kernelspec": {
   "display_name": "Python 3",
   "language": "python",
   "name": "python3"
  },
  "language_info": {
   "codemirror_mode": {
    "name": "ipython",
    "version": 3
   },
   "file_extension": ".py",
   "mimetype": "text/x-python",
   "name": "python",
   "nbconvert_exporter": "python",
   "pygments_lexer": "ipython3",
   "version": "3.10.8"
  },
  "orig_nbformat": 4
 },
 "nbformat": 4,
 "nbformat_minor": 2
}
